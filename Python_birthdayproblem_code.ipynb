{
 "cells": [
  {
   "cell_type": "markdown",
   "id": "3c7c0d16",
   "metadata": {},
   "source": [
    "# The Birthday Problem "
   ]
  },
  {
   "cell_type": "code",
   "execution_count": 1,
   "id": "8b74a170",
   "metadata": {},
   "outputs": [],
   "source": [
    "from random import randint\n",
    "import pandas as pd"
   ]
  },
  {
   "cell_type": "code",
   "execution_count": 2,
   "id": "cd582dc8",
   "metadata": {},
   "outputs": [],
   "source": [
    "min_people = 2\n",
    "max_people = 99\n",
    "possible_bdays = 365"
   ]
  },
  {
   "cell_type": "markdown",
   "id": "dbaefa92",
   "metadata": {},
   "source": [
    "### Define a function that produces a random birthday "
   ]
  },
  {
   "cell_type": "code",
   "execution_count": 3,
   "id": "4124158a",
   "metadata": {},
   "outputs": [],
   "source": [
    "def produce_rand_bday():\n",
    "    bday = randint(1, possible_bdays)\n",
    "    return bday"
   ]
  },
  {
   "cell_type": "markdown",
   "id": "516f3ff7",
   "metadata": {},
   "source": [
    "### Generate many random birthdays"
   ]
  },
  {
   "cell_type": "code",
   "execution_count": 4,
   "id": "d2888971",
   "metadata": {},
   "outputs": [],
   "source": [
    "def produce_n_bdays(n):\n",
    "    bdays = [produce_rand_bday() for _ in range(n)]\n",
    "    return bdays"
   ]
  },
  {
   "cell_type": "markdown",
   "id": "cfbca920",
   "metadata": {},
   "source": [
    "### Define a function that produces coincident birthdays"
   ]
  },
  {
   "cell_type": "code",
   "execution_count": 5,
   "id": "2fbe8a1f",
   "metadata": {},
   "outputs": [],
   "source": [
    "def coincident_bdays(bdays):\n",
    "    unique_bdays = set(bdays)\n",
    "    \n",
    "    num_bdays = len(bdays)\n",
    "    num_unique_bdays = len(unique_bdays)\n",
    "    same_bday = (num_bdays != num_unique_bdays)\n",
    "    \n",
    "    return same_bday"
   ]
  },
  {
   "cell_type": "markdown",
   "id": "7706a1ae",
   "metadata": {},
   "source": [
    "### Perform multiple trials and calculate the probabilities"
   ]
  },
  {
   "cell_type": "code",
   "execution_count": 6,
   "id": "cc6d0885",
   "metadata": {},
   "outputs": [],
   "source": [
    "trials = 10000\n",
    "num_coincidents = 0 "
   ]
  },
  {
   "cell_type": "code",
   "execution_count": 7,
   "id": "668702b8",
   "metadata": {},
   "outputs": [],
   "source": [
    "def prob_estimate_n(n):\n",
    "    num_coincidents = 0\n",
    "    for _ in range(trials):\n",
    "        bdays = produce_n_bdays(n)\n",
    "        same_bday = coincident_bdays(bdays)\n",
    "        if same_bday:\n",
    "            num_coincidents += 1\n",
    "            \n",
    "    prob_same_bday =  num_coincidents / trials\n",
    "    return prob_same_bday "
   ]
  },
  {
   "cell_type": "code",
   "execution_count": 8,
   "id": "1084c16e",
   "metadata": {},
   "outputs": [],
   "source": [
    "def prob_estimate_for_range(nr):\n",
    "    n_probabilities = []\n",
    " \n",
    "    for n in nr:\n",
    "        prob_same_bday = prob_estimate_n(n)\n",
    "        n_probabilities.append(prob_same_bday)\n",
    "         \n",
    "    return n_probabilities"
   ]
  },
  {
   "cell_type": "code",
   "execution_count": 9,
   "id": "42c19c21",
   "metadata": {},
   "outputs": [],
   "source": [
    "nr = range(min_people, max_people + 1)\n",
    "n_probabilities = prob_estimate_for_range(nr)"
   ]
  },
  {
   "cell_type": "markdown",
   "id": "eec42018",
   "metadata": {},
   "source": [
    "### Display the solution - Proof of prob at least 50% at 23 people"
   ]
  },
  {
   "cell_type": "code",
   "execution_count": 10,
   "id": "34acb082",
   "metadata": {},
   "outputs": [
    {
     "data": {
      "text/html": [
       "<div>\n",
       "<style scoped>\n",
       "    .dataframe tbody tr th:only-of-type {\n",
       "        vertical-align: middle;\n",
       "    }\n",
       "\n",
       "    .dataframe tbody tr th {\n",
       "        vertical-align: top;\n",
       "    }\n",
       "\n",
       "    .dataframe thead th {\n",
       "        text-align: right;\n",
       "    }\n",
       "</style>\n",
       "<table border=\"1\" class=\"dataframe\">\n",
       "  <thead>\n",
       "    <tr style=\"text-align: right;\">\n",
       "      <th></th>\n",
       "      <th>n</th>\n",
       "      <th>probability</th>\n",
       "    </tr>\n",
       "  </thead>\n",
       "  <tbody>\n",
       "    <tr>\n",
       "      <th>18</th>\n",
       "      <td>20</td>\n",
       "      <td>0.4068</td>\n",
       "    </tr>\n",
       "    <tr>\n",
       "      <th>19</th>\n",
       "      <td>21</td>\n",
       "      <td>0.4437</td>\n",
       "    </tr>\n",
       "    <tr>\n",
       "      <th>20</th>\n",
       "      <td>22</td>\n",
       "      <td>0.4811</td>\n",
       "    </tr>\n",
       "    <tr>\n",
       "      <th>21</th>\n",
       "      <td>23</td>\n",
       "      <td>0.5065</td>\n",
       "    </tr>\n",
       "    <tr>\n",
       "      <th>22</th>\n",
       "      <td>24</td>\n",
       "      <td>0.5383</td>\n",
       "    </tr>\n",
       "    <tr>\n",
       "      <th>23</th>\n",
       "      <td>25</td>\n",
       "      <td>0.5794</td>\n",
       "    </tr>\n",
       "    <tr>\n",
       "      <th>24</th>\n",
       "      <td>26</td>\n",
       "      <td>0.6043</td>\n",
       "    </tr>\n",
       "    <tr>\n",
       "      <th>25</th>\n",
       "      <td>27</td>\n",
       "      <td>0.6349</td>\n",
       "    </tr>\n",
       "    <tr>\n",
       "      <th>26</th>\n",
       "      <td>28</td>\n",
       "      <td>0.6621</td>\n",
       "    </tr>\n",
       "    <tr>\n",
       "      <th>27</th>\n",
       "      <td>29</td>\n",
       "      <td>0.6915</td>\n",
       "    </tr>\n",
       "  </tbody>\n",
       "</table>\n",
       "</div>"
      ],
      "text/plain": [
       "     n  probability\n",
       "18  20       0.4068\n",
       "19  21       0.4437\n",
       "20  22       0.4811\n",
       "21  23       0.5065\n",
       "22  24       0.5383\n",
       "23  25       0.5794\n",
       "24  26       0.6043\n",
       "25  27       0.6349\n",
       "26  28       0.6621\n",
       "27  29       0.6915"
      ]
     },
     "execution_count": 10,
     "metadata": {},
     "output_type": "execute_result"
    }
   ],
   "source": [
    "people_in_room = pd.Series(nr, name = 'n')\n",
    "probability_of_same_bday = pd.Series(n_probabilities, name='probability')\n",
    "df = pd.concat([people_in_room, probability_of_same_bday], axis=1)\n",
    "df.iloc[18:28,:] "
   ]
  },
  {
   "cell_type": "markdown",
   "id": "c290ee1c",
   "metadata": {},
   "source": [
    "### Plot the results"
   ]
  },
  {
   "cell_type": "code",
   "execution_count": 11,
   "id": "bfa3a555",
   "metadata": {},
   "outputs": [],
   "source": [
    "import matplotlib.pyplot as plt\n",
    "import seaborn as sns\n",
    "import matplotlib.ticker as mtick\n",
    "import numpy as np\n",
    "from scipy.signal import savgol_filter"
   ]
  },
  {
   "cell_type": "markdown",
   "id": "7b33cd65",
   "metadata": {},
   "source": [
    "### Plot the results matching The Economist theme (no package for this) "
   ]
  },
  {
   "cell_type": "code",
   "execution_count": 23,
   "id": "05118431",
   "metadata": {},
   "outputs": [
    {
     "data": {
      "image/png": "[encoded data removed]",
      "text/plain": [
       "<Figure size 550x550 with 1 Axes>"
      ]
     },
     "metadata": {},
     "output_type": "display_data"
    }
   ],
   "source": [
    "fig, prob_plot = plt.subplots(figsize=(5.5, 5.5), dpi=100, facecolor='#c6d3df') # basic figure\n",
    "prob_plot.set_facecolor('#c6d3df')\n",
    "hfont = {'fontname':'Verdana'}\n",
    "\n",
    "# adjust the axis to match the theme\n",
    "prob_plot.xaxis.set_tick_params(width=1.5, length=5, direction=\"in\")\n",
    "prob_plot.set(xlim=(-5,105), \n",
    "     ylim=(-0.04,1.05),\n",
    "     xticks=[0,10,20,30,40,50,60,70,80,90,100], # set axis values \n",
    "     yticks=[0, 0.1, 0.2, 0.3, 0.4, 0.5, 0.6, 0.7, 0.8, 0.9, 1]) \n",
    "prob_plot.yaxis.set_ticks_position(\"right\")  # economist puts y label on the right\n",
    "prob_plot.yaxis.set_label_position(\"right\")\n",
    "prob_plot.yaxis.set_major_formatter(mtick.PercentFormatter(1.0))\n",
    "prob_plot.yaxis.grid(color='white', which='major') # they only use y axis grid lines \n",
    "plt.axhline(y=0, color='white') # there is a horizontal line missing at y=0 \n",
    "prob_plot.tick_params(axis='y', pad=15) # the y-axis labels should not touch the grid lines, shift right\n",
    "\n",
    "y_new = savgol_filter(n_probabilities, 51, 3) # make a smooth line\n",
    "\n",
    "sns.lineplot(x=nr, y=y_new, lw=4, color='#3e647d', solid_capstyle='round') # make the line ends rounded\n",
    "\n",
    "# adjust the axis lines in terms of length and visibility \n",
    "prob_plot.spines['top'].set_visible(False) \n",
    "prob_plot.spines['right'].set_position(('data', 100.01))\n",
    "prob_plot.spines['right'].set_visible(False)\n",
    "prob_plot.spines['bottom'].set_position(('data',-0.04))\n",
    "prob_plot.spines['left'].set_visible(False)\n",
    "\n",
    "# labels and other \n",
    "plt.plot([23, 23], [-0.04, 1.05], lw=1.5, color='#C91D42', alpha=0.3) # add the red line at the solution\n",
    "plt.xlabel('Number of people in the room', fontsize=14, **hfont)\n",
    "plt.ylabel('Probability two people share the same birthday', fontsize=14, rotation=90, **hfont)\n",
    "plt.title(\"The Birthday Problem\", fontsize=22, fontweight='bold', loc=\"left\", pad=15, **hfont) \n",
    "plt.tick_params(right = False, bottom = True)\n",
    "plt.yticks(fontsize=14, **hfont)\n",
    "plt.xticks(fontsize=14, **hfont)\n",
    "\n",
    "plt.savefig('Python_birthdayproblem_graph.png',bbox_inches='tight')  \n",
    "\n",
    "plt.show()"
   ]
  },
  {
   "cell_type": "code",
   "execution_count": null,
   "id": "711d6e09",
   "metadata": {},
   "outputs": [],
   "source": []
  }
 ],
 "metadata": {
  "kernelspec": {
   "display_name": "Python 3 (ipykernel)",
   "language": "python",
   "name": "python3"
  },
  "language_info": {
   "codemirror_mode": {
    "name": "ipython",
    "version": 3
   },
   "file_extension": ".py",
   "mimetype": "text/x-python",
   "name": "python",
   "nbconvert_exporter": "python",
   "pygments_lexer": "ipython3",
   "version": "3.9.7"
  }
 },
 "nbformat": 4,
 "nbformat_minor": 5
}
